{
  "nbformat": 4,
  "nbformat_minor": 0,
  "metadata": {
    "colab": {
      "name": "SVM.ipynb",
      "provenance": [],
      "collapsed_sections": []
    },
    "kernelspec": {
      "name": "python3",
      "display_name": "Python 3"
    },
    "language_info": {
      "name": "python"
    }
  },
  "cells": [
    {
      "cell_type": "markdown",
      "metadata": {
        "id": "2qo9PigE8kuS"
      },
      "source": [
        "## Demonstrate Python Version of Kernels \n",
        "\n",
        "In this assignment, we'll demonstrate a Python version of kernels, soft-margin, and using CVXOPT to solve a quadratic programming problem. you can learn more about Quadratic Programming in Python with the [CVXOPT Quadratic Programming Docs](https://cvxopt.org/userguide/coneprog.html#quadratic-programming). You can also check out this [CVXOPT Quadratic Programming example.](https://cvxopt.org/examples/tutorial/qp.html)\n",
        "\n"
      ]
    },
    {
      "cell_type": "code",
      "metadata": {
        "id": "1YppAr1nZQYT"
      },
      "source": [
        "# Do not change anything in this cell.\n",
        "from sklearn.datasets import load_digits\n",
        "from sklearn.model_selection import train_test_split\n",
        "import numpy as np\n",
        "import matplotlib.pyplot as plt"
      ],
      "execution_count": null,
      "outputs": []
    },
    {
      "cell_type": "code",
      "metadata": {
        "id": "_aAldOI0jYla"
      },
      "source": [
        "# Do not change anything in this cell\n",
        "import cvxopt\n",
        "import cvxopt.solvers\n",
        "import pylab as pl"
      ],
      "execution_count": null,
      "outputs": []
    },
    {
      "cell_type": "code",
      "metadata": {
        "id": "26-vEjLxjYn-"
      },
      "source": [
        "def linear_kernel(x1, x2):\n",
        "    return np.dot(x1, x2)# Return the linear kernel\n",
        "\n",
        "def polynomial_kernel(x, y, p=3):\n",
        "    return (1 + np.dot(x, y)) ** p # Return the polynomial kernel\n",
        "\n",
        "def gaussian_kernel(x, y, sigma=5.0):\n",
        "    return np.exp(-np.linalg.norm(x-y)**2 / (2 * (sigma ** 2))) # Return the gaussian kernel\n",
        "\n",
        "class SVM(object):\n",
        "\n",
        "    def __init__(self, kernel=linear_kernel, C=None):\n",
        "        # Initialize the variables \n",
        "        # Handle the case where C might not be None (for soft margin classifier)\n",
        "        self.kernel = kernel\n",
        "        self.C = C\n",
        "\n",
        "    def fit(self, X, y):\n",
        "        \"\"\"\n",
        "        that will fit the data\n",
        "        X: data\n",
        "        y: target\n",
        "        \"\"\"\n",
        "        n_samples = X.shape[0]\n",
        "        n_features = X.shape[1]\n",
        "        # Gram matrix\n",
        "        K = np.zeros((n_samples, n_samples))\n",
        "        P = np.zeros((n_samples, n_samples))\n",
        "        # Hint: Initialize with 0s\n",
        "        for i in range(n_samples):\n",
        "            for j in range(n_samples):\n",
        "                K[i, j] = self.kernel(X[i], X[j])\n",
        "                P[i, j] = K[i, j] * y[i] * y[j]\n",
        "\n",
        "        # Variables required to solve the equation.\n",
        "        # P = k(xi, xj) * yi * yj\n",
        "        P = cvxopt.matrix(P)\n",
        "        # constant matrix for a\n",
        "        q = cvxopt.matrix(-1 * np.ones(n_samples))\n",
        "        # Ax=b. A = y.T\n",
        "        A = cvxopt.matrix(y).trans()\n",
        "        # zero matrix, [0]\n",
        "        b = cvxopt.matrix(0.0)\n",
        "\n",
        "        # Values if its a soft margin or hard margin classifier\n",
        "        if self.C is None:\n",
        "            # Gx <= h, which is -a_i <= 0, every a >= 0\n",
        "            # G: diagonal matrix of -1\n",
        "            G = cvxopt.matrix(-1 * np.identity(n_samples))\n",
        "            # h: all zeros\n",
        "            h = cvxopt.matrix(np.zeros(n_samples))\n",
        "        else:\n",
        "            # Gx <= h, which is 0<=a_i<= c\n",
        "            # separate into two conditions\n",
        "            # cond 1: -a_i >= 0 and cond 2: a_i <= c\n",
        "            cond_1_G = -1 * np.identity(n_samples)\n",
        "            cond_2_G = np.identity(n_samples)\n",
        "            G = cvxopt.matrix(np.vstack((cond_1_G, cond_2_G)))\n",
        "            cond_1_H = np.zeros(n_samples)\n",
        "            cond_2_H = self.C * np.ones(n_samples)\n",
        "            h = cvxopt.matrix(np.append(cond_1_H, cond_2_H))\n",
        "\n",
        "        # solve QP problem\n",
        "        solution = cvxopt.solvers.qp(P, q, G, h, A, b)\n",
        "        # Lagrange multipliers (get alpha)\n",
        "        a = np.array(solution['x'])[:, 0]\n",
        "\n",
        "        # Support vectors have non zero lagrange multipliers\n",
        "        sv = a > 1e-5\n",
        "        # index of a, where a_i > 1e-5, practically non zero\n",
        "        ind = np.where(a > 1e-5)[0]\n",
        "        self.a = a[sv]\n",
        "        self.sv = X[sv]\n",
        "        self.sv_y = y[sv]\n",
        "        print(\"%d support vectors out of %d points\" % (len(self.a), n_samples))\n",
        "\n",
        "        #  Find the Intercept\n",
        "        self.b = 0\n",
        "        for n in range(len(self.a)):\n",
        "            # b = y-a*y*kernel(xi, xj)\n",
        "            self.b += self.sv_y[n]\n",
        "            self.b -= np.sum(self.a * self.sv_y * K[ind[n], sv])\n",
        "        self.b /= len(self.a)\n",
        "\n",
        "        # Find the Weight vector\n",
        "        if self.kernel == linear_kernel:\n",
        "            self.w = np.zeros(n_features)\n",
        "            for n in range(len(self.a)):\n",
        "                # w = sum(a_i * y_i * x_i)\n",
        "                self.w += self.a[n] * self.sv_y[n] * self.sv[n]\n",
        "        else:\n",
        "            self.w = None\n",
        "\n",
        "    def project(self, X):\n",
        "        \"\"\"\n",
        "        Function that helps predictions to get to predic the outcome\n",
        "        X: dataset\n",
        "        returns predictions + bias\n",
        "        \"\"\"\n",
        "        if self.w is not None:\n",
        "            return np.dot(X, self.w) + self.b\n",
        "        else:\n",
        "            y_predict = np.zeros(len(X))\n",
        "            for i in range(len(X)):\n",
        "                s = 0\n",
        "                for a, sv_y, sv in zip(self.a, self.sv_y, self.sv):\n",
        "                    # multiply with every support vectors\n",
        "                    s += a * sv_y * self.kernel(X[i], sv)\n",
        "                y_predict[i] = s + self.b\n",
        "            return y_predict\n",
        "\n",
        "    def predict(self, X):\n",
        "        # Return the sign of prediction using np.sign and project method.\n",
        "        return np.sign(self.project(X))"
      ],
      "execution_count": null,
      "outputs": []
    },
    {
      "cell_type": "code",
      "metadata": {
        "id": "uMpMks6dAlHT"
      },
      "source": [
        "# Do not change anything in this cell. Please go through the data generation functions\n",
        "# to get a better understanding of kernels and its effects.\n",
        "def gen_lin_separable_data():\n",
        "    # generate training data in the 2-d case\n",
        "    mean1 = np.array([0, 2])\n",
        "    mean2 = np.array([2, 0])\n",
        "    cov = np.array([[0.8, 0.6], [0.6, 0.8]])\n",
        "    X1 = np.random.multivariate_normal(mean1, cov, 100)\n",
        "    y1 = np.ones(len(X1))\n",
        "    X2 = np.random.multivariate_normal(mean2, cov, 100)\n",
        "    y2 = np.ones(len(X2)) * -1\n",
        "    return X1, y1, X2, y2\n",
        "\n",
        "def gen_non_lin_separable_data():\n",
        "    mean1 = [-1, 2]\n",
        "    mean2 = [1, -1]\n",
        "    mean3 = [4, -4]\n",
        "    mean4 = [-4, 4]\n",
        "    cov = [[1.0,0.8], [0.8, 1.0]]\n",
        "    X1 = np.random.multivariate_normal(mean1, cov, 50)\n",
        "    X1 = np.vstack((X1, np.random.multivariate_normal(mean3, cov, 50)))\n",
        "    y1 = np.ones(len(X1))\n",
        "    X2 = np.random.multivariate_normal(mean2, cov, 50)\n",
        "    X2 = np.vstack((X2, np.random.multivariate_normal(mean4, cov, 50)))\n",
        "    y2 = np.ones(len(X2)) * -1\n",
        "    return X1, y1, X2, y2\n",
        "\n",
        "def gen_lin_separable_overlap_data():\n",
        "    # generate training data in the 2-d case\n",
        "    mean1 = np.array([0, 2])\n",
        "    mean2 = np.array([2, 0])\n",
        "    cov = np.array([[1.5, 1.0], [1.0, 1.5]])\n",
        "    X1 = np.random.multivariate_normal(mean1, cov, 100)\n",
        "    y1 = np.ones(len(X1))\n",
        "    X2 = np.random.multivariate_normal(mean2, cov, 100)\n",
        "    y2 = np.ones(len(X2)) * -1\n",
        "    return X1, y1, X2, y2\n",
        "\n",
        "def split_train(X1, y1, X2, y2):\n",
        "    X1_train = X1[:90]\n",
        "    y1_train = y1[:90]\n",
        "    X2_train = X2[:90]\n",
        "    y2_train = y2[:90]\n",
        "    X_train = np.vstack((X1_train, X2_train))\n",
        "    y_train = np.hstack((y1_train, y2_train))\n",
        "    return X_train, y_train\n",
        "\n",
        "def split_test(X1, y1, X2, y2):\n",
        "    X1_test = X1[90:]\n",
        "    y1_test = y1[90:]\n",
        "    X2_test = X2[90:]\n",
        "    y2_test = y2[90:]\n",
        "    X_test = np.vstack((X1_test, X2_test))\n",
        "    y_test = np.hstack((y1_test, y2_test))\n",
        "    return X_test, y_test\n",
        "\n",
        "def plot_margin(X1_train, X2_train, clf):\n",
        "    def f(x, w, b, c=0):\n",
        "        # given x, return y such that [x,y] in on the line\n",
        "        # w.x + b = c\n",
        "        return (-w[0] * x - b + c) / w[1]\n",
        "\n",
        "    pl.plot(X1_train[:,0], X1_train[:,1], \"ro\")\n",
        "    pl.plot(X2_train[:,0], X2_train[:,1], \"bo\")\n",
        "    pl.scatter(clf.sv[:,0], clf.sv[:,1], s=100, c=\"g\")\n",
        "\n",
        "    # w.x + b = 0\n",
        "    a0 = -4; a1 = f(a0, clf.w, clf.b)\n",
        "    b0 = 4; b1 = f(b0, clf.w, clf.b)\n",
        "    pl.plot([a0,b0], [a1,b1], \"k\")\n",
        "\n",
        "    # w.x + b = 1\n",
        "    a0 = -4; a1 = f(a0, clf.w, clf.b, 1)\n",
        "    b0 = 4; b1 = f(b0, clf.w, clf.b, 1)\n",
        "    pl.plot([a0,b0], [a1,b1], \"k--\")\n",
        "\n",
        "    # w.x + b = -1\n",
        "    a0 = -4; a1 = f(a0, clf.w, clf.b, -1)\n",
        "    b0 = 4; b1 = f(b0, clf.w, clf.b, -1)\n",
        "    pl.plot([a0,b0], [a1,b1], \"k--\")\n",
        "\n",
        "    pl.axis(\"tight\")\n",
        "    pl.show()\n",
        "\n",
        "def plot_contour(X1_train, X2_train, clf):\n",
        "    pl.plot(X1_train[:,0], X1_train[:,1], \"ro\")\n",
        "    pl.plot(X2_train[:,0], X2_train[:,1], \"bo\")\n",
        "    pl.scatter(clf.sv[:,0], clf.sv[:,1], s=100, c=\"g\")\n",
        "\n",
        "    X1, X2 = np.meshgrid(np.linspace(-6,6,50), np.linspace(-6,6,50))\n",
        "    X = np.array([[x1, x2] for x1, x2 in zip(np.ravel(X1), np.ravel(X2))])\n",
        "    Z = clf.project(X).reshape(X1.shape)\n",
        "    pl.contour(X1, X2, Z, [0.0], colors='k', linewidths=1, origin='lower')\n",
        "    pl.contour(X1, X2, Z + 1, [0.0], colors='grey', linewidths=1, origin='lower')\n",
        "    pl.contour(X1, X2, Z - 1, [0.0], colors='grey', linewidths=1, origin='lower')\n",
        "\n",
        "    pl.axis(\"tight\")\n",
        "    pl.show()\n",
        "\n",
        "def test_linear():\n",
        "    X1, y1, X2, y2 = gen_lin_separable_data()\n",
        "    X_train, y_train = split_train(X1, y1, X2, y2)\n",
        "    X_test, y_test = split_test(X1, y1, X2, y2)\n",
        "\n",
        "    clf = SVM()\n",
        "    clf.fit(X_train, y_train)\n",
        "\n",
        "    y_predict = clf.predict(X_test)\n",
        "    correct = np.sum(y_predict == y_test)\n",
        "    print(\"%d out of %d predictions correct\" % (correct, len(y_predict)))\n",
        "\n",
        "    plot_margin(X_train[y_train==1], X_train[y_train==-1], clf)\n",
        "\n",
        "def test_non_linear():\n",
        "    X1, y1, X2, y2 = gen_non_lin_separable_data()\n",
        "    X_train, y_train = split_train(X1, y1, X2, y2)\n",
        "    X_test, y_test = split_test(X1, y1, X2, y2)\n",
        "\n",
        "    clf = SVM(polynomial_kernel)\n",
        "    clf.fit(X_train, y_train)\n",
        "\n",
        "    y_predict = clf.predict(X_test)\n",
        "    correct = np.sum(y_predict == y_test)\n",
        "    print(\"%d out of %d predictions correct\" % (correct, len(y_predict)))\n",
        "\n",
        "    plot_contour(X_train[y_train==1], X_train[y_train==-1], clf)\n",
        "\n",
        "def test_soft():\n",
        "    X1, y1, X2, y2 = gen_lin_separable_overlap_data()\n",
        "    X_train, y_train = split_train(X1, y1, X2, y2)\n",
        "    X_test, y_test = split_test(X1, y1, X2, y2)\n",
        "\n",
        "    clf = SVM(C=1000.1)\n",
        "    clf.fit(X_train, y_train)\n",
        "\n",
        "    y_predict = clf.predict(X_test)\n",
        "    correct = np.sum(y_predict == y_test)\n",
        "    print(\"%d out of %d predictions correct\" % (correct, len(y_predict)))\n",
        "\n",
        "    plot_contour(X_train[y_train==1], X_train[y_train==-1], clf)"
      ],
      "execution_count": null,
      "outputs": []
    },
    {
      "cell_type": "code",
      "metadata": {
        "id": "_p6pBTq4kHBB",
        "colab": {
          "base_uri": "https://localhost:8080/",
          "height": 501
        },
        "outputId": "83038bd0-f58d-480f-8b84-de79d5b7f078"
      },
      "source": [
        "test_linear()"
      ],
      "execution_count": null,
      "outputs": [
        {
          "output_type": "stream",
          "text": [
            "     pcost       dcost       gap    pres   dres\n",
            " 0: -1.8513e+01 -3.5641e+01  6e+02  2e+01  2e+00\n",
            " 1: -2.4861e+01 -2.0523e+01  2e+02  9e+00  7e-01\n",
            " 2: -7.5128e+01 -5.0963e+01  2e+02  8e+00  6e-01\n",
            " 3: -1.4017e+02 -6.2706e+01  2e+02  5e+00  4e-01\n",
            " 4: -5.8043e+00 -1.0540e+01  2e+01  2e-01  2e-02\n",
            " 5: -7.1894e+00 -8.1681e+00  2e+00  2e-02  2e-03\n",
            " 6: -8.0286e+00 -8.0389e+00  3e-02  2e-04  2e-05\n",
            " 7: -8.0373e+00 -8.0374e+00  3e-04  2e-06  2e-07\n",
            " 8: -8.0374e+00 -8.0374e+00  3e-06  2e-08  2e-09\n",
            "Optimal solution found.\n",
            "3 support vectors out of 180 points\n",
            "20 out of 20 predictions correct\n"
          ],
          "name": "stdout"
        },
        {
          "output_type": "display_data",
          "data": {
            "image/png": "[encoded data removed]",
            "text/plain": [
              "<Figure size 432x288 with 1 Axes>"
            ]
          },
          "metadata": {
            "tags": [],
            "needs_background": "light"
          }
        }
      ]
    },
    {
      "cell_type": "code",
      "metadata": {
        "id": "rZ7s5mamjYqk",
        "colab": {
          "base_uri": "https://localhost:8080/",
          "height": 610
        },
        "outputId": "b9e97892-3c8c-49c0-ebe1-e99619afda1d"
      },
      "source": [
        "test_non_linear()"
      ],
      "execution_count": null,
      "outputs": [
        {
          "output_type": "stream",
          "text": [
            "     pcost       dcost       gap    pres   dres\n",
            " 0: -4.3997e+01 -1.0351e+02  1e+03  4e+01  2e+00\n",
            " 1: -6.4599e+01 -7.9772e+01  7e+02  2e+01  1e+00\n",
            " 2: -1.8432e+01 -6.1849e+00  2e+02  5e+00  3e-01\n",
            " 3: -5.0214e-01 -7.0470e-01  7e+00  2e-01  1e-02\n",
            " 4: -2.7997e-02 -4.9533e-01  2e+00  3e-02  2e-03\n",
            " 5: -7.4266e-02 -3.1713e-01  5e-01  8e-03  5e-04\n",
            " 6: -1.2299e-01 -2.2400e-01  2e-01  3e-03  2e-04\n",
            " 7: -1.5288e-01 -2.1042e-01  1e-01  1e-03  7e-05\n",
            " 8: -1.7372e-01 -1.9335e-01  3e-02  3e-04  2e-05\n",
            " 9: -1.7655e-01 -1.9115e-01  2e-02  1e-04  8e-06\n",
            "10: -1.8179e-01 -1.8940e-01  1e-02  6e-05  4e-06\n",
            "11: -1.8534e-01 -1.8838e-01  3e-03  1e-16  3e-14\n",
            "12: -1.8788e-01 -1.8813e-01  2e-04  1e-16  3e-14\n",
            "13: -1.8811e-01 -1.8811e-01  3e-06  1e-16  2e-14\n",
            "14: -1.8811e-01 -1.8811e-01  3e-08  6e-17  3e-14\n",
            "Optimal solution found.\n",
            "9 support vectors out of 180 points\n",
            "20 out of 20 predictions correct\n"
          ],
          "name": "stdout"
        },
        {
          "output_type": "display_data",
          "data": {
            "image/png": "[encoded data removed]",
            "text/plain": [
              "<Figure size 432x288 with 1 Axes>"
            ]
          },
          "metadata": {
            "tags": [],
            "needs_background": "light"
          }
        }
      ]
    },
    {
      "cell_type": "code",
      "metadata": {
        "colab": {
          "base_uri": "https://localhost:8080/",
          "height": 651
        },
        "id": "e-_wnt1WRkeQ",
        "outputId": "1a4d34de-2e0b-4566-a2e2-bdbfffd55add"
      },
      "source": [
        "test_soft()"
      ],
      "execution_count": null,
      "outputs": [
        {
          "output_type": "stream",
          "text": [
            "     pcost       dcost       gap    pres   dres\n",
            " 0:  1.3712e+05 -8.6040e+07  2e+08  5e-01  7e-12\n",
            " 1:  3.8098e+05 -1.6318e+07  3e+07  5e-02  1e-11\n",
            " 2:  3.4152e+05 -3.2650e+06  5e+06  8e-03  4e-12\n",
            " 3:  1.0777e+05 -6.0281e+05  8e+05  9e-04  4e-12\n",
            " 4:  4.9361e+03 -8.2802e+04  9e+04  2e-05  5e-12\n",
            " 5: -4.0641e+03 -3.1463e+04  3e+04  5e-06  5e-12\n",
            " 6: -5.2024e+03 -2.6240e+04  2e+04  3e-06  4e-12\n",
            " 7: -5.7836e+03 -2.2701e+04  2e+04  2e-06  4e-12\n",
            " 8: -6.2095e+03 -1.1438e+04  5e+03  4e-07  5e-12\n",
            " 9: -6.7212e+03 -1.1856e+04  5e+03  4e-07  5e-12\n",
            "10: -7.8323e+03 -1.0064e+04  2e+03  1e-07  5e-12\n",
            "11: -8.0129e+03 -9.6563e+03  2e+03  7e-08  5e-12\n",
            "12: -8.1486e+03 -9.2610e+03  1e+03  1e-09  6e-12\n",
            "13: -8.2213e+03 -9.0290e+03  8e+02  7e-10  5e-12\n",
            "14: -8.5807e+03 -8.6194e+03  4e+01  2e-12  6e-12\n",
            "15: -8.5985e+03 -8.5989e+03  4e-01  9e-13  5e-12\n",
            "16: -8.5987e+03 -8.5987e+03  4e-03  7e-13  6e-12\n",
            "Optimal solution found.\n",
            "12 support vectors out of 180 points\n",
            "20 out of 20 predictions correct\n"
          ],
          "name": "stdout"
        },
        {
          "output_type": "display_data",
          "data": {
            "image/png": "[encoded data removed]",
            "text/plain": [
              "<Figure size 432x288 with 1 Axes>"
            ]
          },
          "metadata": {
            "tags": [],
            "needs_background": "light"
          }
        }
      ]
    }
  ]
}